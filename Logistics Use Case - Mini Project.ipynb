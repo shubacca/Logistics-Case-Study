{
 "cells": [
  {
   "cell_type": "markdown",
   "metadata": {},
   "source": [
    "## Predicting demand for a clothing, sports, and electronic supply chain dataset"
   ]
  },
  {
   "cell_type": "markdown",
   "metadata": {},
   "source": [
    "The current dataset has been obtained under the CC by 4.0 license from the following source: \n",
    "\n",
    "Constante, Fabian; Silva, Fernando; Pereira, António (2019), “DataCo SMART SUPPLY CHAIN FOR BIG DATA ANALYSIS”, Mendeley Data, v5 http://dx.doi.org/10.17632/8gx2fvg2k6.5"
   ]
  },
  {
   "cell_type": "code",
   "execution_count": 1,
   "metadata": {},
   "outputs": [],
   "source": [
    "import numpy as np\n",
    "import pandas as pd\n",
    "import matplotlib.pyplot as plt\n",
    "import seaborn as sns\n",
    "import requests, json\n",
    "\n",
    "plt.style.use('seaborn-pastel')\n",
    "sns.set_palette('Set2')"
   ]
  },
  {
   "cell_type": "code",
   "execution_count": 2,
   "metadata": {},
   "outputs": [
    {
     "data": {
      "text/html": [
       "<div>\n",
       "<style scoped>\n",
       "    .dataframe tbody tr th:only-of-type {\n",
       "        vertical-align: middle;\n",
       "    }\n",
       "\n",
       "    .dataframe tbody tr th {\n",
       "        vertical-align: top;\n",
       "    }\n",
       "\n",
       "    .dataframe thead th {\n",
       "        text-align: right;\n",
       "    }\n",
       "</style>\n",
       "<table border=\"1\" class=\"dataframe\">\n",
       "  <thead>\n",
       "    <tr style=\"text-align: right;\">\n",
       "      <th></th>\n",
       "      <th>Type</th>\n",
       "      <th>Days for shipping (real)</th>\n",
       "      <th>Days for shipment (scheduled)</th>\n",
       "      <th>Benefit per order</th>\n",
       "      <th>Sales per customer</th>\n",
       "      <th>Delivery Status</th>\n",
       "      <th>Late_delivery_risk</th>\n",
       "      <th>Category Id</th>\n",
       "      <th>Category Name</th>\n",
       "      <th>Customer City</th>\n",
       "      <th>...</th>\n",
       "      <th>Order Zipcode</th>\n",
       "      <th>Product Card Id</th>\n",
       "      <th>Product Category Id</th>\n",
       "      <th>Product Description</th>\n",
       "      <th>Product Image</th>\n",
       "      <th>Product Name</th>\n",
       "      <th>Product Price</th>\n",
       "      <th>Product Status</th>\n",
       "      <th>shipping date (DateOrders)</th>\n",
       "      <th>Shipping Mode</th>\n",
       "    </tr>\n",
       "  </thead>\n",
       "  <tbody>\n",
       "    <tr>\n",
       "      <th>0</th>\n",
       "      <td>DEBIT</td>\n",
       "      <td>3</td>\n",
       "      <td>4</td>\n",
       "      <td>91.250000</td>\n",
       "      <td>314.640015</td>\n",
       "      <td>Advance shipping</td>\n",
       "      <td>0</td>\n",
       "      <td>73</td>\n",
       "      <td>Sporting Goods</td>\n",
       "      <td>Caguas</td>\n",
       "      <td>...</td>\n",
       "      <td>NaN</td>\n",
       "      <td>1360</td>\n",
       "      <td>73</td>\n",
       "      <td>NaN</td>\n",
       "      <td>http://images.acmesports.sports/Smart+watch</td>\n",
       "      <td>Smart watch</td>\n",
       "      <td>327.75</td>\n",
       "      <td>0</td>\n",
       "      <td>2/3/2018 22:56</td>\n",
       "      <td>Standard Class</td>\n",
       "    </tr>\n",
       "    <tr>\n",
       "      <th>1</th>\n",
       "      <td>TRANSFER</td>\n",
       "      <td>5</td>\n",
       "      <td>4</td>\n",
       "      <td>-249.089996</td>\n",
       "      <td>311.359985</td>\n",
       "      <td>Late delivery</td>\n",
       "      <td>1</td>\n",
       "      <td>73</td>\n",
       "      <td>Sporting Goods</td>\n",
       "      <td>Caguas</td>\n",
       "      <td>...</td>\n",
       "      <td>NaN</td>\n",
       "      <td>1360</td>\n",
       "      <td>73</td>\n",
       "      <td>NaN</td>\n",
       "      <td>http://images.acmesports.sports/Smart+watch</td>\n",
       "      <td>Smart watch</td>\n",
       "      <td>327.75</td>\n",
       "      <td>0</td>\n",
       "      <td>1/18/2018 12:27</td>\n",
       "      <td>Standard Class</td>\n",
       "    </tr>\n",
       "    <tr>\n",
       "      <th>2</th>\n",
       "      <td>CASH</td>\n",
       "      <td>4</td>\n",
       "      <td>4</td>\n",
       "      <td>-247.779999</td>\n",
       "      <td>309.720001</td>\n",
       "      <td>Shipping on time</td>\n",
       "      <td>0</td>\n",
       "      <td>73</td>\n",
       "      <td>Sporting Goods</td>\n",
       "      <td>San Jose</td>\n",
       "      <td>...</td>\n",
       "      <td>NaN</td>\n",
       "      <td>1360</td>\n",
       "      <td>73</td>\n",
       "      <td>NaN</td>\n",
       "      <td>http://images.acmesports.sports/Smart+watch</td>\n",
       "      <td>Smart watch</td>\n",
       "      <td>327.75</td>\n",
       "      <td>0</td>\n",
       "      <td>1/17/2018 12:06</td>\n",
       "      <td>Standard Class</td>\n",
       "    </tr>\n",
       "    <tr>\n",
       "      <th>3</th>\n",
       "      <td>DEBIT</td>\n",
       "      <td>3</td>\n",
       "      <td>4</td>\n",
       "      <td>22.860001</td>\n",
       "      <td>304.809998</td>\n",
       "      <td>Advance shipping</td>\n",
       "      <td>0</td>\n",
       "      <td>73</td>\n",
       "      <td>Sporting Goods</td>\n",
       "      <td>Los Angeles</td>\n",
       "      <td>...</td>\n",
       "      <td>NaN</td>\n",
       "      <td>1360</td>\n",
       "      <td>73</td>\n",
       "      <td>NaN</td>\n",
       "      <td>http://images.acmesports.sports/Smart+watch</td>\n",
       "      <td>Smart watch</td>\n",
       "      <td>327.75</td>\n",
       "      <td>0</td>\n",
       "      <td>1/16/2018 11:45</td>\n",
       "      <td>Standard Class</td>\n",
       "    </tr>\n",
       "    <tr>\n",
       "      <th>4</th>\n",
       "      <td>PAYMENT</td>\n",
       "      <td>2</td>\n",
       "      <td>4</td>\n",
       "      <td>134.210007</td>\n",
       "      <td>298.250000</td>\n",
       "      <td>Advance shipping</td>\n",
       "      <td>0</td>\n",
       "      <td>73</td>\n",
       "      <td>Sporting Goods</td>\n",
       "      <td>Caguas</td>\n",
       "      <td>...</td>\n",
       "      <td>NaN</td>\n",
       "      <td>1360</td>\n",
       "      <td>73</td>\n",
       "      <td>NaN</td>\n",
       "      <td>http://images.acmesports.sports/Smart+watch</td>\n",
       "      <td>Smart watch</td>\n",
       "      <td>327.75</td>\n",
       "      <td>0</td>\n",
       "      <td>1/15/2018 11:24</td>\n",
       "      <td>Standard Class</td>\n",
       "    </tr>\n",
       "  </tbody>\n",
       "</table>\n",
       "<p>5 rows × 53 columns</p>\n",
       "</div>"
      ],
      "text/plain": [
       "       Type  Days for shipping (real)  Days for shipment (scheduled)  \\\n",
       "0     DEBIT                         3                              4   \n",
       "1  TRANSFER                         5                              4   \n",
       "2      CASH                         4                              4   \n",
       "3     DEBIT                         3                              4   \n",
       "4   PAYMENT                         2                              4   \n",
       "\n",
       "   Benefit per order  Sales per customer   Delivery Status  \\\n",
       "0          91.250000          314.640015  Advance shipping   \n",
       "1        -249.089996          311.359985     Late delivery   \n",
       "2        -247.779999          309.720001  Shipping on time   \n",
       "3          22.860001          304.809998  Advance shipping   \n",
       "4         134.210007          298.250000  Advance shipping   \n",
       "\n",
       "   Late_delivery_risk  Category Id   Category Name Customer City  ...  \\\n",
       "0                   0           73  Sporting Goods        Caguas  ...   \n",
       "1                   1           73  Sporting Goods        Caguas  ...   \n",
       "2                   0           73  Sporting Goods      San Jose  ...   \n",
       "3                   0           73  Sporting Goods   Los Angeles  ...   \n",
       "4                   0           73  Sporting Goods        Caguas  ...   \n",
       "\n",
       "  Order Zipcode Product Card Id Product Category Id  Product Description  \\\n",
       "0           NaN            1360                  73                  NaN   \n",
       "1           NaN            1360                  73                  NaN   \n",
       "2           NaN            1360                  73                  NaN   \n",
       "3           NaN            1360                  73                  NaN   \n",
       "4           NaN            1360                  73                  NaN   \n",
       "\n",
       "                                  Product Image  Product Name Product Price  \\\n",
       "0  http://images.acmesports.sports/Smart+watch   Smart watch         327.75   \n",
       "1  http://images.acmesports.sports/Smart+watch   Smart watch         327.75   \n",
       "2  http://images.acmesports.sports/Smart+watch   Smart watch         327.75   \n",
       "3  http://images.acmesports.sports/Smart+watch   Smart watch         327.75   \n",
       "4  http://images.acmesports.sports/Smart+watch   Smart watch         327.75   \n",
       "\n",
       "  Product Status shipping date (DateOrders)   Shipping Mode  \n",
       "0              0             2/3/2018 22:56  Standard Class  \n",
       "1              0            1/18/2018 12:27  Standard Class  \n",
       "2              0            1/17/2018 12:06  Standard Class  \n",
       "3              0            1/16/2018 11:45  Standard Class  \n",
       "4              0            1/15/2018 11:24  Standard Class  \n",
       "\n",
       "[5 rows x 53 columns]"
      ]
     },
     "execution_count": 2,
     "metadata": {},
     "output_type": "execute_result"
    }
   ],
   "source": [
    "filename = 'DataCoSupplyChainDataset.csv'\n",
    "data = pd.read_csv(filename, encoding='unicode_escape')\n",
    "data.head()"
   ]
  },
  {
   "cell_type": "code",
   "execution_count": 3,
   "metadata": {},
   "outputs": [
    {
     "name": "stdout",
     "output_type": "stream",
     "text": [
      "<class 'pandas.core.frame.DataFrame'>\n",
      "RangeIndex: 180519 entries, 0 to 180518\n",
      "Data columns (total 53 columns):\n",
      "Type                             180519 non-null object\n",
      "Days for shipping (real)         180519 non-null int64\n",
      "Days for shipment (scheduled)    180519 non-null int64\n",
      "Benefit per order                180519 non-null float64\n",
      "Sales per customer               180519 non-null float64\n",
      "Delivery Status                  180519 non-null object\n",
      "Late_delivery_risk               180519 non-null int64\n",
      "Category Id                      180519 non-null int64\n",
      "Category Name                    180519 non-null object\n",
      "Customer City                    180519 non-null object\n",
      "Customer Country                 180519 non-null object\n",
      "Customer Email                   180519 non-null object\n",
      "Customer Fname                   180519 non-null object\n",
      "Customer Id                      180519 non-null int64\n",
      "Customer Lname                   180511 non-null object\n",
      "Customer Password                180519 non-null object\n",
      "Customer Segment                 180519 non-null object\n",
      "Customer State                   180519 non-null object\n",
      "Customer Street                  180519 non-null object\n",
      "Customer Zipcode                 180516 non-null float64\n",
      "Department Id                    180519 non-null int64\n",
      "Department Name                  180519 non-null object\n",
      "Latitude                         180519 non-null float64\n",
      "Longitude                        180519 non-null float64\n",
      "Market                           180519 non-null object\n",
      "Order City                       180519 non-null object\n",
      "Order Country                    180519 non-null object\n",
      "Order Customer Id                180519 non-null int64\n",
      "order date (DateOrders)          180519 non-null object\n",
      "Order Id                         180519 non-null int64\n",
      "Order Item Cardprod Id           180519 non-null int64\n",
      "Order Item Discount              180519 non-null float64\n",
      "Order Item Discount Rate         180519 non-null float64\n",
      "Order Item Id                    180519 non-null int64\n",
      "Order Item Product Price         180519 non-null float64\n",
      "Order Item Profit Ratio          180519 non-null float64\n",
      "Order Item Quantity              180519 non-null int64\n",
      "Sales                            180519 non-null float64\n",
      "Order Item Total                 180519 non-null float64\n",
      "Order Profit Per Order           180519 non-null float64\n",
      "Order Region                     180519 non-null object\n",
      "Order State                      180519 non-null object\n",
      "Order Status                     180519 non-null object\n",
      "Order Zipcode                    24840 non-null float64\n",
      "Product Card Id                  180519 non-null int64\n",
      "Product Category Id              180519 non-null int64\n",
      "Product Description              0 non-null float64\n",
      "Product Image                    180519 non-null object\n",
      "Product Name                     180519 non-null object\n",
      "Product Price                    180519 non-null float64\n",
      "Product Status                   180519 non-null int64\n",
      "shipping date (DateOrders)       180519 non-null object\n",
      "Shipping Mode                    180519 non-null object\n",
      "dtypes: float64(15), int64(14), object(24)\n",
      "memory usage: 73.0+ MB\n"
     ]
    }
   ],
   "source": [
    "data.info()"
   ]
  },
  {
   "cell_type": "markdown",
   "metadata": {},
   "source": [
    "### Data Preparation"
   ]
  },
  {
   "cell_type": "code",
   "execution_count": 4,
   "metadata": {},
   "outputs": [],
   "source": [
    "# Let us anonymize the data by dropping the names and addresses, and then dropping irrelevant columns for data analysis\n",
    "data.drop(['Category Id','Customer Email','Customer Fname','Customer Lname','Customer Password','Customer Street','Customer Zipcode','Department Id','Latitude','Longitude','Order Zipcode','Product Category Id','Product Description','Product Image','Product Status'], axis=1, inplace=True)"
   ]
  },
  {
   "cell_type": "code",
   "execution_count": 5,
   "metadata": {},
   "outputs": [
    {
     "name": "stdout",
     "output_type": "stream",
     "text": [
      "<class 'pandas.core.frame.DataFrame'>\n",
      "RangeIndex: 180519 entries, 0 to 180518\n",
      "Data columns (total 38 columns):\n",
      "Type                             180519 non-null object\n",
      "Days for shipping (real)         180519 non-null int64\n",
      "Days for shipment (scheduled)    180519 non-null int64\n",
      "Benefit per order                180519 non-null float64\n",
      "Sales per customer               180519 non-null float64\n",
      "Delivery Status                  180519 non-null object\n",
      "Late_delivery_risk               180519 non-null int64\n",
      "Category Name                    180519 non-null object\n",
      "Customer City                    180519 non-null object\n",
      "Customer Country                 180519 non-null object\n",
      "Customer Id                      180519 non-null int64\n",
      "Customer Segment                 180519 non-null object\n",
      "Customer State                   180519 non-null object\n",
      "Department Name                  180519 non-null object\n",
      "Market                           180519 non-null object\n",
      "Order City                       180519 non-null object\n",
      "Order Country                    180519 non-null object\n",
      "Order Customer Id                180519 non-null int64\n",
      "order date (DateOrders)          180519 non-null object\n",
      "Order Id                         180519 non-null int64\n",
      "Order Item Cardprod Id           180519 non-null int64\n",
      "Order Item Discount              180519 non-null float64\n",
      "Order Item Discount Rate         180519 non-null float64\n",
      "Order Item Id                    180519 non-null int64\n",
      "Order Item Product Price         180519 non-null float64\n",
      "Order Item Profit Ratio          180519 non-null float64\n",
      "Order Item Quantity              180519 non-null int64\n",
      "Sales                            180519 non-null float64\n",
      "Order Item Total                 180519 non-null float64\n",
      "Order Profit Per Order           180519 non-null float64\n",
      "Order Region                     180519 non-null object\n",
      "Order State                      180519 non-null object\n",
      "Order Status                     180519 non-null object\n",
      "Product Card Id                  180519 non-null int64\n",
      "Product Name                     180519 non-null object\n",
      "Product Price                    180519 non-null float64\n",
      "shipping date (DateOrders)       180519 non-null object\n",
      "Shipping Mode                    180519 non-null object\n",
      "dtypes: float64(10), int64(10), object(18)\n",
      "memory usage: 52.3+ MB\n"
     ]
    }
   ],
   "source": [
    "data.info()"
   ]
  },
  {
   "cell_type": "code",
   "execution_count": 6,
   "metadata": {},
   "outputs": [],
   "source": [
    "#Converting the dates into datetime objects\n",
    "\n",
    "data['order date (DateOrders)'] = pd.to_datetime(data['order date (DateOrders)'])\n",
    "data['shipping date (DateOrders)'] = pd.to_datetime(data['shipping date (DateOrders)'])\n"
   ]
  },
  {
   "cell_type": "code",
   "execution_count": 7,
   "metadata": {},
   "outputs": [
    {
     "data": {
      "text/plain": [
       "pandas._libs.tslibs.timestamps.Timestamp"
      ]
     },
     "execution_count": 7,
     "metadata": {},
     "output_type": "execute_result"
    }
   ],
   "source": [
    "type(data['order date (DateOrders)'][0])"
   ]
  },
  {
   "cell_type": "markdown",
   "metadata": {},
   "source": [
    "## EDA"
   ]
  },
  {
   "cell_type": "code",
   "execution_count": 8,
   "metadata": {
    "scrolled": false
   },
   "outputs": [
    {
     "data": {
      "text/plain": [
       "<matplotlib.axes._subplots.AxesSubplot at 0x1a294309d30>"
      ]
     },
     "execution_count": 8,
     "metadata": {},
     "output_type": "execute_result"
    },
    {
     "data": {
      "image/png": "[encoded data removed]",
      "text/plain": [
       "<Figure size 432x288 with 1 Axes>"
      ]
     },
     "metadata": {
      "needs_background": "light"
     },
     "output_type": "display_data"
    }
   ],
   "source": [
    "# Customer database according to method of payment\n",
    "plt.title('Customer counts according to method of payment')\n",
    "data.groupby('Type')['Customer Id'].count().plot(kind='bar')"
   ]
  },
  {
   "cell_type": "code",
   "execution_count": 9,
   "metadata": {},
   "outputs": [
    {
     "data": {
      "text/plain": [
       "<matplotlib.axes._subplots.AxesSubplot at 0x1a299baee10>"
      ]
     },
     "execution_count": 9,
     "metadata": {},
     "output_type": "execute_result"
    },
    {
     "data": {
      "image/png": "[encoded data removed]",
      "text/plain": [
       "<Figure size 432x288 with 1 Axes>"
      ]
     },
     "metadata": {
      "needs_background": "light"
     },
     "output_type": "display_data"
    }
   ],
   "source": [
    "# Number of orders that were delivered late\n",
    "plt.title('Number of orders that were delivered late')\n",
    "data.groupby('Late_delivery_risk')['Customer Id'].count().plot(kind='bar')"
   ]
  },
  {
   "cell_type": "code",
   "execution_count": 10,
   "metadata": {},
   "outputs": [],
   "source": [
    "data['days_late_delivered'] = data['Days for shipping (real)'] - data['Days for shipment (scheduled)']"
   ]
  },
  {
   "cell_type": "code",
   "execution_count": 11,
   "metadata": {},
   "outputs": [
    {
     "data": {
      "text/plain": [
       "<matplotlib.axes._subplots.AxesSubplot at 0x1a299c7b2b0>"
      ]
     },
     "execution_count": 11,
     "metadata": {},
     "output_type": "execute_result"
    },
    {
     "data": {
      "image/png": "[encoded data removed]",
      "text/plain": [
       "<Figure size 432x288 with 1 Axes>"
      ]
     },
     "metadata": {
      "needs_background": "light"
     },
     "output_type": "display_data"
    }
   ],
   "source": [
    "# Number of orders delivered early or late\n",
    "plt.title('Count of orders delivered late or early')\n",
    "data.groupby('days_late_delivered')['Customer Id'].count().plot(kind='bar')"
   ]
  },
  {
   "cell_type": "code",
   "execution_count": 12,
   "metadata": {},
   "outputs": [
    {
     "data": {
      "text/plain": [
       "<matplotlib.axes._subplots.AxesSubplot at 0x1a299c0f6a0>"
      ]
     },
     "execution_count": 12,
     "metadata": {},
     "output_type": "execute_result"
    },
    {
     "data": {
      "image/png": "[encoded data removed]",
      "text/plain": [
       "<Figure size 432x288 with 1 Axes>"
      ]
     },
     "metadata": {
      "needs_background": "light"
     },
     "output_type": "display_data"
    }
   ],
   "source": [
    "# Number of orders by Product ID\n",
    "plt.title('Count of orders by Product ID')\n",
    "data.groupby('Product Card Id')['Customer Id'].count().plot(kind='bar')"
   ]
  },
  {
   "cell_type": "code",
   "execution_count": 13,
   "metadata": {},
   "outputs": [
    {
     "data": {
      "text/plain": [
       "<matplotlib.axes._subplots.AxesSubplot at 0x1a299e1a438>"
      ]
     },
     "execution_count": 13,
     "metadata": {},
     "output_type": "execute_result"
    },
    {
     "data": {
      "image/png": "[encoded data removed]",
      "text/plain": [
       "<Figure size 432x288 with 1 Axes>"
      ]
     },
     "metadata": {
      "needs_background": "light"
     },
     "output_type": "display_data"
    }
   ],
   "source": [
    "# Let us zoom in on this graph by eliminating the products of demand\n",
    "\n",
    "products_in_demand = data.groupby('Product Name')['Customer Id'].count()\n",
    "\n",
    "plt.title('Count of orders by Product Name (over 1000 sold)')\n",
    "products_in_demand[products_in_demand > 1000].plot(kind='bar')"
   ]
  },
  {
   "cell_type": "code",
   "execution_count": 14,
   "metadata": {},
   "outputs": [
    {
     "data": {
      "text/plain": [
       "Product Name\n",
       "Diamondback Women's Serene Classic Comfort Bi    13729\n",
       "Field & Stream Sportsman 16 Gun Fire Safe        17325\n",
       "Nike Men's CJ Elite 2 TD Football Cleat          22246\n",
       "Nike Men's Dri-FIT Victory Golf Polo             21035\n",
       "Nike Men's Free 5.0+ Running Shoe                12169\n",
       "O'Brien Men's Neoprene Life Vest                 19298\n",
       "Pelican Sunstream 100 Kayak                      15500\n",
       "Perfect Fitness Perfect Rip Deck                 24515\n",
       "Under Armour Girls' Toddler Spine Surge Runni    10617\n",
       "Name: Customer Id, dtype: int64"
      ]
     },
     "execution_count": 14,
     "metadata": {},
     "output_type": "execute_result"
    }
   ],
   "source": [
    "# Here are the most popular items with their counts sold\n",
    "most_in_demand = products_in_demand[products_in_demand > 1000]\n",
    "most_in_demand"
   ]
  },
  {
   "cell_type": "code",
   "execution_count": 15,
   "metadata": {},
   "outputs": [],
   "source": [
    "# Breaking down when orders were placed and when they were shipped\n",
    "data['day_order_placed'] = data['order date (DateOrders)'].dt.day\n",
    "data['month_order_placed'] = data['order date (DateOrders)'].dt.month\n",
    "data['year_order_placed'] = data['order date (DateOrders)'].dt.year\n",
    "\n",
    "#also adding in filters for orders placed per quarter for forecasting\n",
    "data['month_year_order_placed'] = data['order date (DateOrders)'].dt.to_period('M')\n",
    "\n",
    "data['day_order_delivered'] = data['shipping date (DateOrders)'].dt.day\n",
    "data['month_order_delivered'] = data['shipping date (DateOrders)'].dt.month\n",
    "data['year_order_delivered'] = data['shipping date (DateOrders)'].dt.year"
   ]
  },
  {
   "cell_type": "code",
   "execution_count": 16,
   "metadata": {
    "scrolled": false
   },
   "outputs": [
    {
     "data": {
      "text/html": [
       "<div>\n",
       "<style scoped>\n",
       "    .dataframe tbody tr th:only-of-type {\n",
       "        vertical-align: middle;\n",
       "    }\n",
       "\n",
       "    .dataframe tbody tr th {\n",
       "        vertical-align: top;\n",
       "    }\n",
       "\n",
       "    .dataframe thead th {\n",
       "        text-align: right;\n",
       "    }\n",
       "</style>\n",
       "<table border=\"1\" class=\"dataframe\">\n",
       "  <thead>\n",
       "    <tr style=\"text-align: right;\">\n",
       "      <th>month_year_order_placed</th>\n",
       "      <th>2015-01</th>\n",
       "      <th>2015-02</th>\n",
       "      <th>2015-03</th>\n",
       "      <th>2015-04</th>\n",
       "      <th>2015-05</th>\n",
       "      <th>2015-06</th>\n",
       "      <th>2015-07</th>\n",
       "      <th>2015-08</th>\n",
       "      <th>2015-09</th>\n",
       "      <th>2015-10</th>\n",
       "      <th>...</th>\n",
       "      <th>2017-04</th>\n",
       "      <th>2017-05</th>\n",
       "      <th>2017-06</th>\n",
       "      <th>2017-07</th>\n",
       "      <th>2017-08</th>\n",
       "      <th>2017-09</th>\n",
       "      <th>2017-10</th>\n",
       "      <th>2017-11</th>\n",
       "      <th>2017-12</th>\n",
       "      <th>2018-01</th>\n",
       "    </tr>\n",
       "    <tr>\n",
       "      <th>Product Name</th>\n",
       "      <th></th>\n",
       "      <th></th>\n",
       "      <th></th>\n",
       "      <th></th>\n",
       "      <th></th>\n",
       "      <th></th>\n",
       "      <th></th>\n",
       "      <th></th>\n",
       "      <th></th>\n",
       "      <th></th>\n",
       "      <th></th>\n",
       "      <th></th>\n",
       "      <th></th>\n",
       "      <th></th>\n",
       "      <th></th>\n",
       "      <th></th>\n",
       "      <th></th>\n",
       "      <th></th>\n",
       "      <th></th>\n",
       "      <th></th>\n",
       "      <th></th>\n",
       "    </tr>\n",
       "  </thead>\n",
       "  <tbody>\n",
       "    <tr>\n",
       "      <th>Adult dog supplies</th>\n",
       "      <td>0</td>\n",
       "      <td>0</td>\n",
       "      <td>0</td>\n",
       "      <td>0</td>\n",
       "      <td>0</td>\n",
       "      <td>0</td>\n",
       "      <td>0</td>\n",
       "      <td>0</td>\n",
       "      <td>0</td>\n",
       "      <td>0</td>\n",
       "      <td>...</td>\n",
       "      <td>0</td>\n",
       "      <td>0</td>\n",
       "      <td>0</td>\n",
       "      <td>0</td>\n",
       "      <td>0</td>\n",
       "      <td>0</td>\n",
       "      <td>0</td>\n",
       "      <td>127</td>\n",
       "      <td>119</td>\n",
       "      <td>246</td>\n",
       "    </tr>\n",
       "    <tr>\n",
       "      <th>Baby sweater</th>\n",
       "      <td>0</td>\n",
       "      <td>0</td>\n",
       "      <td>0</td>\n",
       "      <td>0</td>\n",
       "      <td>0</td>\n",
       "      <td>0</td>\n",
       "      <td>0</td>\n",
       "      <td>0</td>\n",
       "      <td>0</td>\n",
       "      <td>0</td>\n",
       "      <td>...</td>\n",
       "      <td>0</td>\n",
       "      <td>0</td>\n",
       "      <td>0</td>\n",
       "      <td>0</td>\n",
       "      <td>0</td>\n",
       "      <td>0</td>\n",
       "      <td>82</td>\n",
       "      <td>0</td>\n",
       "      <td>125</td>\n",
       "      <td>0</td>\n",
       "    </tr>\n",
       "    <tr>\n",
       "      <th>Bag Boy Beverage Holder</th>\n",
       "      <td>11</td>\n",
       "      <td>5</td>\n",
       "      <td>13</td>\n",
       "      <td>8</td>\n",
       "      <td>11</td>\n",
       "      <td>10</td>\n",
       "      <td>8</td>\n",
       "      <td>7</td>\n",
       "      <td>15</td>\n",
       "      <td>9</td>\n",
       "      <td>...</td>\n",
       "      <td>9</td>\n",
       "      <td>0</td>\n",
       "      <td>0</td>\n",
       "      <td>0</td>\n",
       "      <td>0</td>\n",
       "      <td>0</td>\n",
       "      <td>0</td>\n",
       "      <td>0</td>\n",
       "      <td>0</td>\n",
       "      <td>0</td>\n",
       "    </tr>\n",
       "    <tr>\n",
       "      <th>Bag Boy M330 Push Cart</th>\n",
       "      <td>0</td>\n",
       "      <td>0</td>\n",
       "      <td>0</td>\n",
       "      <td>0</td>\n",
       "      <td>0</td>\n",
       "      <td>0</td>\n",
       "      <td>0</td>\n",
       "      <td>0</td>\n",
       "      <td>0</td>\n",
       "      <td>0</td>\n",
       "      <td>...</td>\n",
       "      <td>1</td>\n",
       "      <td>25</td>\n",
       "      <td>13</td>\n",
       "      <td>8</td>\n",
       "      <td>16</td>\n",
       "      <td>6</td>\n",
       "      <td>0</td>\n",
       "      <td>0</td>\n",
       "      <td>0</td>\n",
       "      <td>0</td>\n",
       "    </tr>\n",
       "    <tr>\n",
       "      <th>Bowflex SelectTech 1090 Dumbbells</th>\n",
       "      <td>0</td>\n",
       "      <td>0</td>\n",
       "      <td>0</td>\n",
       "      <td>0</td>\n",
       "      <td>0</td>\n",
       "      <td>0</td>\n",
       "      <td>0</td>\n",
       "      <td>0</td>\n",
       "      <td>0</td>\n",
       "      <td>0</td>\n",
       "      <td>...</td>\n",
       "      <td>0</td>\n",
       "      <td>0</td>\n",
       "      <td>0</td>\n",
       "      <td>0</td>\n",
       "      <td>0</td>\n",
       "      <td>7</td>\n",
       "      <td>3</td>\n",
       "      <td>0</td>\n",
       "      <td>0</td>\n",
       "      <td>0</td>\n",
       "    </tr>\n",
       "  </tbody>\n",
       "</table>\n",
       "<p>5 rows × 37 columns</p>\n",
       "</div>"
      ],
      "text/plain": [
       "month_year_order_placed            2015-01  2015-02  2015-03  2015-04  \\\n",
       "Product Name                                                            \n",
       "Adult dog supplies                       0        0        0        0   \n",
       "Baby sweater                             0        0        0        0   \n",
       "Bag Boy Beverage Holder                 11        5       13        8   \n",
       "Bag Boy M330 Push Cart                   0        0        0        0   \n",
       "Bowflex SelectTech 1090 Dumbbells        0        0        0        0   \n",
       "\n",
       "month_year_order_placed            2015-05  2015-06  2015-07  2015-08  \\\n",
       "Product Name                                                            \n",
       "Adult dog supplies                       0        0        0        0   \n",
       "Baby sweater                             0        0        0        0   \n",
       "Bag Boy Beverage Holder                 11       10        8        7   \n",
       "Bag Boy M330 Push Cart                   0        0        0        0   \n",
       "Bowflex SelectTech 1090 Dumbbells        0        0        0        0   \n",
       "\n",
       "month_year_order_placed            2015-09  2015-10  ...  2017-04  2017-05  \\\n",
       "Product Name                                         ...                     \n",
       "Adult dog supplies                       0        0  ...        0        0   \n",
       "Baby sweater                             0        0  ...        0        0   \n",
       "Bag Boy Beverage Holder                 15        9  ...        9        0   \n",
       "Bag Boy M330 Push Cart                   0        0  ...        1       25   \n",
       "Bowflex SelectTech 1090 Dumbbells        0        0  ...        0        0   \n",
       "\n",
       "month_year_order_placed            2017-06  2017-07  2017-08  2017-09  \\\n",
       "Product Name                                                            \n",
       "Adult dog supplies                       0        0        0        0   \n",
       "Baby sweater                             0        0        0        0   \n",
       "Bag Boy Beverage Holder                  0        0        0        0   \n",
       "Bag Boy M330 Push Cart                  13        8       16        6   \n",
       "Bowflex SelectTech 1090 Dumbbells        0        0        0        7   \n",
       "\n",
       "month_year_order_placed            2017-10  2017-11  2017-12  2018-01  \n",
       "Product Name                                                           \n",
       "Adult dog supplies                       0      127      119      246  \n",
       "Baby sweater                            82        0      125        0  \n",
       "Bag Boy Beverage Holder                  0        0        0        0  \n",
       "Bag Boy M330 Push Cart                   0        0        0        0  \n",
       "Bowflex SelectTech 1090 Dumbbells        3        0        0        0  \n",
       "\n",
       "[5 rows x 37 columns]"
      ]
     },
     "execution_count": 16,
     "metadata": {},
     "output_type": "execute_result"
    }
   ],
   "source": [
    "# Creating a pivot table by product name and the number of items purchased\n",
    "demand_table = pd.pivot_table(data, index='Product Name', columns='month_year_order_placed', values='Customer Id', aggfunc='count', fill_value=0)\n",
    "demand_table.head()"
   ]
  },
  {
   "cell_type": "code",
   "execution_count": 17,
   "metadata": {},
   "outputs": [
    {
     "data": {
      "text/html": [
       "<div>\n",
       "<style scoped>\n",
       "    .dataframe tbody tr th:only-of-type {\n",
       "        vertical-align: middle;\n",
       "    }\n",
       "\n",
       "    .dataframe tbody tr th {\n",
       "        vertical-align: top;\n",
       "    }\n",
       "\n",
       "    .dataframe thead th {\n",
       "        text-align: right;\n",
       "    }\n",
       "</style>\n",
       "<table border=\"1\" class=\"dataframe\">\n",
       "  <thead>\n",
       "    <tr style=\"text-align: right;\">\n",
       "      <th>month_year_order_placed</th>\n",
       "      <th>2015-01</th>\n",
       "      <th>2015-02</th>\n",
       "      <th>2015-03</th>\n",
       "      <th>2015-04</th>\n",
       "      <th>2015-05</th>\n",
       "      <th>2015-06</th>\n",
       "      <th>2015-07</th>\n",
       "      <th>2015-08</th>\n",
       "      <th>2015-09</th>\n",
       "      <th>2015-10</th>\n",
       "      <th>...</th>\n",
       "      <th>2017-04</th>\n",
       "      <th>2017-05</th>\n",
       "      <th>2017-06</th>\n",
       "      <th>2017-07</th>\n",
       "      <th>2017-08</th>\n",
       "      <th>2017-09</th>\n",
       "      <th>2017-10</th>\n",
       "      <th>2017-11</th>\n",
       "      <th>2017-12</th>\n",
       "      <th>2018-01</th>\n",
       "    </tr>\n",
       "    <tr>\n",
       "      <th>Product Name</th>\n",
       "      <th></th>\n",
       "      <th></th>\n",
       "      <th></th>\n",
       "      <th></th>\n",
       "      <th></th>\n",
       "      <th></th>\n",
       "      <th></th>\n",
       "      <th></th>\n",
       "      <th></th>\n",
       "      <th></th>\n",
       "      <th></th>\n",
       "      <th></th>\n",
       "      <th></th>\n",
       "      <th></th>\n",
       "      <th></th>\n",
       "      <th></th>\n",
       "      <th></th>\n",
       "      <th></th>\n",
       "      <th></th>\n",
       "      <th></th>\n",
       "      <th></th>\n",
       "    </tr>\n",
       "  </thead>\n",
       "  <tbody>\n",
       "    <tr>\n",
       "      <th>Diamondback Women's Serene Classic Comfort Bi</th>\n",
       "      <td>415</td>\n",
       "      <td>392</td>\n",
       "      <td>405</td>\n",
       "      <td>417</td>\n",
       "      <td>392</td>\n",
       "      <td>411</td>\n",
       "      <td>412</td>\n",
       "      <td>407</td>\n",
       "      <td>436</td>\n",
       "      <td>428</td>\n",
       "      <td>...</td>\n",
       "      <td>436</td>\n",
       "      <td>451</td>\n",
       "      <td>410</td>\n",
       "      <td>431</td>\n",
       "      <td>391</td>\n",
       "      <td>436</td>\n",
       "      <td>15</td>\n",
       "      <td>0</td>\n",
       "      <td>0</td>\n",
       "      <td>0</td>\n",
       "    </tr>\n",
       "    <tr>\n",
       "      <th>Field &amp; Stream Sportsman 16 Gun Fire Safe</th>\n",
       "      <td>542</td>\n",
       "      <td>442</td>\n",
       "      <td>525</td>\n",
       "      <td>523</td>\n",
       "      <td>516</td>\n",
       "      <td>538</td>\n",
       "      <td>515</td>\n",
       "      <td>509</td>\n",
       "      <td>508</td>\n",
       "      <td>524</td>\n",
       "      <td>...</td>\n",
       "      <td>517</td>\n",
       "      <td>534</td>\n",
       "      <td>524</td>\n",
       "      <td>545</td>\n",
       "      <td>548</td>\n",
       "      <td>566</td>\n",
       "      <td>17</td>\n",
       "      <td>0</td>\n",
       "      <td>0</td>\n",
       "      <td>0</td>\n",
       "    </tr>\n",
       "    <tr>\n",
       "      <th>Nike Men's CJ Elite 2 TD Football Cleat</th>\n",
       "      <td>620</td>\n",
       "      <td>642</td>\n",
       "      <td>618</td>\n",
       "      <td>653</td>\n",
       "      <td>644</td>\n",
       "      <td>666</td>\n",
       "      <td>664</td>\n",
       "      <td>688</td>\n",
       "      <td>678</td>\n",
       "      <td>677</td>\n",
       "      <td>...</td>\n",
       "      <td>664</td>\n",
       "      <td>740</td>\n",
       "      <td>675</td>\n",
       "      <td>707</td>\n",
       "      <td>678</td>\n",
       "      <td>662</td>\n",
       "      <td>32</td>\n",
       "      <td>0</td>\n",
       "      <td>0</td>\n",
       "      <td>0</td>\n",
       "    </tr>\n",
       "    <tr>\n",
       "      <th>Nike Men's Dri-FIT Victory Golf Polo</th>\n",
       "      <td>627</td>\n",
       "      <td>586</td>\n",
       "      <td>665</td>\n",
       "      <td>662</td>\n",
       "      <td>649</td>\n",
       "      <td>591</td>\n",
       "      <td>698</td>\n",
       "      <td>663</td>\n",
       "      <td>634</td>\n",
       "      <td>653</td>\n",
       "      <td>...</td>\n",
       "      <td>593</td>\n",
       "      <td>617</td>\n",
       "      <td>628</td>\n",
       "      <td>631</td>\n",
       "      <td>657</td>\n",
       "      <td>641</td>\n",
       "      <td>27</td>\n",
       "      <td>0</td>\n",
       "      <td>0</td>\n",
       "      <td>0</td>\n",
       "    </tr>\n",
       "    <tr>\n",
       "      <th>Nike Men's Free 5.0+ Running Shoe</th>\n",
       "      <td>400</td>\n",
       "      <td>315</td>\n",
       "      <td>385</td>\n",
       "      <td>340</td>\n",
       "      <td>448</td>\n",
       "      <td>421</td>\n",
       "      <td>366</td>\n",
       "      <td>363</td>\n",
       "      <td>365</td>\n",
       "      <td>402</td>\n",
       "      <td>...</td>\n",
       "      <td>346</td>\n",
       "      <td>360</td>\n",
       "      <td>325</td>\n",
       "      <td>390</td>\n",
       "      <td>377</td>\n",
       "      <td>380</td>\n",
       "      <td>22</td>\n",
       "      <td>0</td>\n",
       "      <td>0</td>\n",
       "      <td>0</td>\n",
       "    </tr>\n",
       "    <tr>\n",
       "      <th>O'Brien Men's Neoprene Life Vest</th>\n",
       "      <td>606</td>\n",
       "      <td>520</td>\n",
       "      <td>635</td>\n",
       "      <td>569</td>\n",
       "      <td>596</td>\n",
       "      <td>557</td>\n",
       "      <td>614</td>\n",
       "      <td>524</td>\n",
       "      <td>579</td>\n",
       "      <td>594</td>\n",
       "      <td>...</td>\n",
       "      <td>615</td>\n",
       "      <td>589</td>\n",
       "      <td>526</td>\n",
       "      <td>563</td>\n",
       "      <td>571</td>\n",
       "      <td>553</td>\n",
       "      <td>25</td>\n",
       "      <td>0</td>\n",
       "      <td>0</td>\n",
       "      <td>0</td>\n",
       "    </tr>\n",
       "    <tr>\n",
       "      <th>Pelican Sunstream 100 Kayak</th>\n",
       "      <td>471</td>\n",
       "      <td>433</td>\n",
       "      <td>480</td>\n",
       "      <td>489</td>\n",
       "      <td>495</td>\n",
       "      <td>460</td>\n",
       "      <td>472</td>\n",
       "      <td>488</td>\n",
       "      <td>436</td>\n",
       "      <td>484</td>\n",
       "      <td>...</td>\n",
       "      <td>481</td>\n",
       "      <td>485</td>\n",
       "      <td>461</td>\n",
       "      <td>471</td>\n",
       "      <td>516</td>\n",
       "      <td>472</td>\n",
       "      <td>25</td>\n",
       "      <td>0</td>\n",
       "      <td>0</td>\n",
       "      <td>0</td>\n",
       "    </tr>\n",
       "    <tr>\n",
       "      <th>Perfect Fitness Perfect Rip Deck</th>\n",
       "      <td>802</td>\n",
       "      <td>660</td>\n",
       "      <td>773</td>\n",
       "      <td>726</td>\n",
       "      <td>750</td>\n",
       "      <td>722</td>\n",
       "      <td>748</td>\n",
       "      <td>801</td>\n",
       "      <td>726</td>\n",
       "      <td>732</td>\n",
       "      <td>...</td>\n",
       "      <td>743</td>\n",
       "      <td>733</td>\n",
       "      <td>653</td>\n",
       "      <td>783</td>\n",
       "      <td>754</td>\n",
       "      <td>694</td>\n",
       "      <td>37</td>\n",
       "      <td>0</td>\n",
       "      <td>0</td>\n",
       "      <td>0</td>\n",
       "    </tr>\n",
       "    <tr>\n",
       "      <th>Under Armour Girls' Toddler Spine Surge Runni</th>\n",
       "      <td>338</td>\n",
       "      <td>309</td>\n",
       "      <td>359</td>\n",
       "      <td>295</td>\n",
       "      <td>345</td>\n",
       "      <td>309</td>\n",
       "      <td>324</td>\n",
       "      <td>327</td>\n",
       "      <td>323</td>\n",
       "      <td>338</td>\n",
       "      <td>...</td>\n",
       "      <td>332</td>\n",
       "      <td>329</td>\n",
       "      <td>303</td>\n",
       "      <td>346</td>\n",
       "      <td>300</td>\n",
       "      <td>326</td>\n",
       "      <td>9</td>\n",
       "      <td>0</td>\n",
       "      <td>0</td>\n",
       "      <td>0</td>\n",
       "    </tr>\n",
       "  </tbody>\n",
       "</table>\n",
       "<p>9 rows × 37 columns</p>\n",
       "</div>"
      ],
      "text/plain": [
       "month_year_order_placed                        2015-01  2015-02  2015-03  \\\n",
       "Product Name                                                               \n",
       "Diamondback Women's Serene Classic Comfort Bi      415      392      405   \n",
       "Field & Stream Sportsman 16 Gun Fire Safe          542      442      525   \n",
       "Nike Men's CJ Elite 2 TD Football Cleat            620      642      618   \n",
       "Nike Men's Dri-FIT Victory Golf Polo               627      586      665   \n",
       "Nike Men's Free 5.0+ Running Shoe                  400      315      385   \n",
       "O'Brien Men's Neoprene Life Vest                   606      520      635   \n",
       "Pelican Sunstream 100 Kayak                        471      433      480   \n",
       "Perfect Fitness Perfect Rip Deck                   802      660      773   \n",
       "Under Armour Girls' Toddler Spine Surge Runni      338      309      359   \n",
       "\n",
       "month_year_order_placed                        2015-04  2015-05  2015-06  \\\n",
       "Product Name                                                               \n",
       "Diamondback Women's Serene Classic Comfort Bi      417      392      411   \n",
       "Field & Stream Sportsman 16 Gun Fire Safe          523      516      538   \n",
       "Nike Men's CJ Elite 2 TD Football Cleat            653      644      666   \n",
       "Nike Men's Dri-FIT Victory Golf Polo               662      649      591   \n",
       "Nike Men's Free 5.0+ Running Shoe                  340      448      421   \n",
       "O'Brien Men's Neoprene Life Vest                   569      596      557   \n",
       "Pelican Sunstream 100 Kayak                        489      495      460   \n",
       "Perfect Fitness Perfect Rip Deck                   726      750      722   \n",
       "Under Armour Girls' Toddler Spine Surge Runni      295      345      309   \n",
       "\n",
       "month_year_order_placed                        2015-07  2015-08  2015-09  \\\n",
       "Product Name                                                               \n",
       "Diamondback Women's Serene Classic Comfort Bi      412      407      436   \n",
       "Field & Stream Sportsman 16 Gun Fire Safe          515      509      508   \n",
       "Nike Men's CJ Elite 2 TD Football Cleat            664      688      678   \n",
       "Nike Men's Dri-FIT Victory Golf Polo               698      663      634   \n",
       "Nike Men's Free 5.0+ Running Shoe                  366      363      365   \n",
       "O'Brien Men's Neoprene Life Vest                   614      524      579   \n",
       "Pelican Sunstream 100 Kayak                        472      488      436   \n",
       "Perfect Fitness Perfect Rip Deck                   748      801      726   \n",
       "Under Armour Girls' Toddler Spine Surge Runni      324      327      323   \n",
       "\n",
       "month_year_order_placed                        2015-10  ...  2017-04  2017-05  \\\n",
       "Product Name                                            ...                     \n",
       "Diamondback Women's Serene Classic Comfort Bi      428  ...      436      451   \n",
       "Field & Stream Sportsman 16 Gun Fire Safe          524  ...      517      534   \n",
       "Nike Men's CJ Elite 2 TD Football Cleat            677  ...      664      740   \n",
       "Nike Men's Dri-FIT Victory Golf Polo               653  ...      593      617   \n",
       "Nike Men's Free 5.0+ Running Shoe                  402  ...      346      360   \n",
       "O'Brien Men's Neoprene Life Vest                   594  ...      615      589   \n",
       "Pelican Sunstream 100 Kayak                        484  ...      481      485   \n",
       "Perfect Fitness Perfect Rip Deck                   732  ...      743      733   \n",
       "Under Armour Girls' Toddler Spine Surge Runni      338  ...      332      329   \n",
       "\n",
       "month_year_order_placed                        2017-06  2017-07  2017-08  \\\n",
       "Product Name                                                               \n",
       "Diamondback Women's Serene Classic Comfort Bi      410      431      391   \n",
       "Field & Stream Sportsman 16 Gun Fire Safe          524      545      548   \n",
       "Nike Men's CJ Elite 2 TD Football Cleat            675      707      678   \n",
       "Nike Men's Dri-FIT Victory Golf Polo               628      631      657   \n",
       "Nike Men's Free 5.0+ Running Shoe                  325      390      377   \n",
       "O'Brien Men's Neoprene Life Vest                   526      563      571   \n",
       "Pelican Sunstream 100 Kayak                        461      471      516   \n",
       "Perfect Fitness Perfect Rip Deck                   653      783      754   \n",
       "Under Armour Girls' Toddler Spine Surge Runni      303      346      300   \n",
       "\n",
       "month_year_order_placed                        2017-09  2017-10  2017-11  \\\n",
       "Product Name                                                               \n",
       "Diamondback Women's Serene Classic Comfort Bi      436       15        0   \n",
       "Field & Stream Sportsman 16 Gun Fire Safe          566       17        0   \n",
       "Nike Men's CJ Elite 2 TD Football Cleat            662       32        0   \n",
       "Nike Men's Dri-FIT Victory Golf Polo               641       27        0   \n",
       "Nike Men's Free 5.0+ Running Shoe                  380       22        0   \n",
       "O'Brien Men's Neoprene Life Vest                   553       25        0   \n",
       "Pelican Sunstream 100 Kayak                        472       25        0   \n",
       "Perfect Fitness Perfect Rip Deck                   694       37        0   \n",
       "Under Armour Girls' Toddler Spine Surge Runni      326        9        0   \n",
       "\n",
       "month_year_order_placed                        2017-12  2018-01  \n",
       "Product Name                                                     \n",
       "Diamondback Women's Serene Classic Comfort Bi        0        0  \n",
       "Field & Stream Sportsman 16 Gun Fire Safe            0        0  \n",
       "Nike Men's CJ Elite 2 TD Football Cleat              0        0  \n",
       "Nike Men's Dri-FIT Victory Golf Polo                 0        0  \n",
       "Nike Men's Free 5.0+ Running Shoe                    0        0  \n",
       "O'Brien Men's Neoprene Life Vest                     0        0  \n",
       "Pelican Sunstream 100 Kayak                          0        0  \n",
       "Perfect Fitness Perfect Rip Deck                     0        0  \n",
       "Under Armour Girls' Toddler Spine Surge Runni        0        0  \n",
       "\n",
       "[9 rows x 37 columns]"
      ]
     },
     "execution_count": 17,
     "metadata": {},
     "output_type": "execute_result"
    }
   ],
   "source": [
    "# Filtering this table to show purchases with counts > 1000\n",
    "top_demand_table = demand_table[demand_table.sum(axis=1) > 1000]\n",
    "top_demand_table"
   ]
  },
  {
   "cell_type": "markdown",
   "metadata": {},
   "source": [
    "I will be running autoregression on each of these products to predict demands after 3 years. "
   ]
  },
  {
   "cell_type": "code",
   "execution_count": 18,
   "metadata": {},
   "outputs": [],
   "source": [
    "def item_prep(df, row_num, x_len=12, y_len=1, y_test_len=12):\n",
    "    \"\"\"\n",
    "    modified from source: https://medium.com/analytics-vidhya/machine-learning-for-supply-chain-forecast-66ef297f58f2\n",
    "    \n",
    "    x_len is the number of months we will use to make a prediction;\n",
    "    y_len is the number of months we want to predict;\n",
    "    y_test_len is the number of months we leave as a final test;\n",
    "    \"\"\"\n",
    "    \n",
    "    D = df.values[row_num]\n",
    "    periods = D.shape[0]   # 37 months\n",
    " \n",
    "    train = []\n",
    "    \n",
    "    # Training set creation: run through all the possible time windows\n",
    "    loops = periods + 1 - x_len - y_len - y_test_len   # 13 loops\n",
    "    \n",
    "    for col in range(loops):\n",
    "        window = D[col:col + x_len + y_len]\n",
    "        train.append(window)\n",
    "        #train = np.concatenate(train)\n",
    "        \n",
    "    X_train, Y_train = np.split(train,[x_len],axis=1)\n",
    "    X_train = pd.DataFrame(X_train)    \n",
    "    \n",
    "    # Test set creation: unseen “future” data with the demand just before\n",
    "    max_col_test = periods - x_len - y_len +1     # 25 max_cols\n",
    "    test = []\n",
    "    \n",
    "    for col in range(loops-1, max_col_test):\n",
    "        # starting from the end of the 13th month up to final values \n",
    "        test_window = D[col:col + x_len + y_len]\n",
    "        test.append(test_window)\n",
    "        #test = np.concatenate(test)\n",
    "        \n",
    "    #X_test = pd.DataFrame(test)\n",
    "    X_test, Y_test = np.split(test,[x_len],axis=1)\n",
    "    #X_test = test[:-1]\n",
    "    X_test = pd.DataFrame(X_test)\n",
    "    #Y_test = test[-1]\n",
    "    \n",
    "\n",
    "    # this data formatting is needed if we only predict a single period\n",
    "    \"\"\"if y_len == 1:\n",
    "        Y_train = Y_train.ravel()\n",
    "        Y_test = Y_test.ravel()\n",
    "\"\"\"\n",
    "    return X_train, Y_train, X_test, Y_test"
   ]
  },
  {
   "cell_type": "code",
   "execution_count": 19,
   "metadata": {},
   "outputs": [],
   "source": [
    "# Creating test and train datasets for each of the 9 top items\n",
    "X_train_by_item = {}\n",
    "Y_train_by_item = {}\n",
    "X_test_by_item = {}\n",
    "Y_test_by_item = {}\n",
    "\n",
    "for row_num in range(len(top_demand_table)):\n",
    "    X_train_by_item[row_num], Y_train_by_item[row_num], X_test_by_item[row_num], Y_test_by_item[row_num] = item_prep(top_demand_table, row_num=row_num)"
   ]
  },
  {
   "cell_type": "markdown",
   "metadata": {},
   "source": [
    "## Training the forecasting model"
   ]
  },
  {
   "cell_type": "code",
   "execution_count": 20,
   "metadata": {},
   "outputs": [],
   "source": [
    "# Using decision tree regressor\n",
    "from sklearn.tree import DecisionTreeRegressor\n",
    "\n",
    "tree = DecisionTreeRegressor(max_depth=10, min_samples_leaf=2)"
   ]
  },
  {
   "cell_type": "code",
   "execution_count": 21,
   "metadata": {},
   "outputs": [
    {
     "data": {
      "text/plain": [
       "DecisionTreeRegressor(criterion='mse', max_depth=10, max_features=None,\n",
       "                      max_leaf_nodes=None, min_impurity_decrease=0.0,\n",
       "                      min_impurity_split=None, min_samples_leaf=2,\n",
       "                      min_samples_split=2, min_weight_fraction_leaf=0.0,\n",
       "                      presort=False, random_state=None, splitter='best')"
      ]
     },
     "execution_count": 21,
     "metadata": {},
     "output_type": "execute_result"
    }
   ],
   "source": [
    "tree.fit(X_train_by_item[0], Y_train_by_item[0])"
   ]
  },
  {
   "cell_type": "code",
   "execution_count": 22,
   "metadata": {},
   "outputs": [],
   "source": [
    "# Comparing the Mean Absolute Error (MAE) for the predicted train values\n",
    "Y_train_predict = {}\n",
    "Y_train_predict[0] = tree.predict(X_train_by_item[0])"
   ]
  },
  {
   "cell_type": "code",
   "execution_count": 23,
   "metadata": {},
   "outputs": [
    {
     "name": "stdout",
     "output_type": "stream",
     "text": [
      "MAE for Decision Tree on train set for Item 0: 4.4 %\n"
     ]
    }
   ],
   "source": [
    "MAE_tree_train = np.mean(abs(Y_train_by_item[0] - Y_train_predict[0]))/np.mean(Y_train_by_item[0])\n",
    "print('MAE for Decision Tree on train set for Item {0}: {1} %'.format(0, round(MAE_tree_train*100,1)))"
   ]
  },
  {
   "cell_type": "code",
   "execution_count": 24,
   "metadata": {},
   "outputs": [],
   "source": [
    "# Predicting the test data MAE\n",
    "Y_test_predict = {}\n",
    "Y_test_predict[0] = tree.predict(X_test_by_item[0])"
   ]
  },
  {
   "cell_type": "code",
   "execution_count": 25,
   "metadata": {},
   "outputs": [
    {
     "name": "stdout",
     "output_type": "stream",
     "text": [
      "MAE for Decision Tree on test set for Item 0: 48.1 %\n"
     ]
    }
   ],
   "source": [
    "MAE_tree_test = np.mean(abs(Y_test_by_item[0] - Y_test_predict[0]))/np.mean(Y_test_by_item[0])\n",
    "print('MAE for Decision Tree on test set for Item {0}: {1} %'.format(0, round(MAE_tree_test*100,1)))"
   ]
  },
  {
   "cell_type": "markdown",
   "metadata": {},
   "source": [
    "This is quite overfitting to the train data. Let us try different regressors."
   ]
  },
  {
   "cell_type": "code",
   "execution_count": 26,
   "metadata": {},
   "outputs": [],
   "source": [
    "from sklearn.ensemble import RandomForestRegressor\n",
    "\n",
    "rf = RandomForestRegressor(n_estimators=200, max_depth=50)"
   ]
  },
  {
   "cell_type": "code",
   "execution_count": 27,
   "metadata": {},
   "outputs": [
    {
     "name": "stderr",
     "output_type": "stream",
     "text": [
      "C:\\ProgramData\\Anaconda3\\lib\\site-packages\\ipykernel_launcher.py:1: DataConversionWarning: A column-vector y was passed when a 1d array was expected. Please change the shape of y to (n_samples,), for example using ravel().\n",
      "  \"\"\"Entry point for launching an IPython kernel.\n"
     ]
    },
    {
     "data": {
      "text/plain": [
       "RandomForestRegressor(bootstrap=True, criterion='mse', max_depth=50,\n",
       "                      max_features='auto', max_leaf_nodes=None,\n",
       "                      min_impurity_decrease=0.0, min_impurity_split=None,\n",
       "                      min_samples_leaf=1, min_samples_split=2,\n",
       "                      min_weight_fraction_leaf=0.0, n_estimators=200,\n",
       "                      n_jobs=None, oob_score=False, random_state=None,\n",
       "                      verbose=0, warm_start=False)"
      ]
     },
     "execution_count": 27,
     "metadata": {},
     "output_type": "execute_result"
    }
   ],
   "source": [
    "rf.fit(X_train_by_item[0], Y_train_by_item[0])"
   ]
  },
  {
   "cell_type": "code",
   "execution_count": 28,
   "metadata": {},
   "outputs": [
    {
     "name": "stdout",
     "output_type": "stream",
     "text": [
      "MAE for Random Forest on train set for Item 0: 3.9 %\n",
      "MAE for Random Forest on test set for Item 0: 47.4 %\n"
     ]
    }
   ],
   "source": [
    "# Comparing the Mean Absolute Error (MAE) for the predicted train values\n",
    "Y_train_predict = {}\n",
    "Y_train_predict[0] = rf.predict(X_train_by_item[0])\n",
    "\n",
    "MAE_tree_train = np.mean(abs(Y_train_by_item[0] - Y_train_predict[0]))/np.mean(Y_train_by_item[0])\n",
    "print('MAE for Random Forest on train set for Item {0}: {1} %'.format(0, round(MAE_tree_train*100,1)))\n",
    "\n",
    "# Predicting the test data MAE\n",
    "Y_test_predict = {}\n",
    "Y_test_predict[0] = rf.predict(X_test_by_item[0])\n",
    "\n",
    "MAE_tree_test = np.mean(abs(Y_test_by_item[0] - Y_test_predict[0]))/np.mean(Y_test_by_item[0])\n",
    "print('MAE for Random Forest on test set for Item {0}: {1} %'.format(0, round(MAE_tree_test*100,1)))"
   ]
  },
  {
   "cell_type": "code",
   "execution_count": 29,
   "metadata": {},
   "outputs": [
    {
     "name": "stdout",
     "output_type": "stream",
     "text": [
      "Requirement already satisfied: xgboost in c:\\programdata\\anaconda3\\lib\\site-packages (0.90)\n",
      "Requirement already satisfied: numpy in c:\\programdata\\anaconda3\\lib\\site-packages (from xgboost) (1.16.4)\n",
      "Requirement already satisfied: scipy in c:\\programdata\\anaconda3\\lib\\site-packages (from xgboost) (1.2.1)\n"
     ]
    }
   ],
   "source": [
    "!pip install xgboost"
   ]
  },
  {
   "cell_type": "code",
   "execution_count": 30,
   "metadata": {},
   "outputs": [],
   "source": [
    "import xgboost as xgb\n",
    "\n",
    "xg_reg = xgb.XGBRegressor(learning_rate=1, random_state=1)"
   ]
  },
  {
   "cell_type": "code",
   "execution_count": 31,
   "metadata": {},
   "outputs": [
    {
     "name": "stdout",
     "output_type": "stream",
     "text": [
      "[03:28:36] WARNING: C:/Jenkins/workspace/xgboost-win64_release_0.90/src/objective/regression_obj.cu:152: reg:linear is now deprecated in favor of reg:squarederror.\n"
     ]
    },
    {
     "name": "stderr",
     "output_type": "stream",
     "text": [
      "C:\\ProgramData\\Anaconda3\\lib\\site-packages\\xgboost\\core.py:613: UserWarning: Use subset (sliced data) of np.ndarray is not recommended because it will generate extra copies and increase memory consumption\n",
      "  warnings.warn(\"Use subset (sliced data) of np.ndarray is not recommended \" +\n"
     ]
    },
    {
     "data": {
      "text/plain": [
       "XGBRegressor(base_score=0.5, booster='gbtree', colsample_bylevel=1,\n",
       "             colsample_bynode=1, colsample_bytree=1, gamma=0,\n",
       "             importance_type='gain', learning_rate=1, max_delta_step=0,\n",
       "             max_depth=3, min_child_weight=1, missing=None, n_estimators=100,\n",
       "             n_jobs=1, nthread=None, objective='reg:linear', random_state=1,\n",
       "             reg_alpha=0, reg_lambda=1, scale_pos_weight=1, seed=None,\n",
       "             silent=None, subsample=1, verbosity=1)"
      ]
     },
     "execution_count": 31,
     "metadata": {},
     "output_type": "execute_result"
    }
   ],
   "source": [
    "xg_reg.fit(X_train_by_item[0], Y_train_by_item[0])"
   ]
  },
  {
   "cell_type": "code",
   "execution_count": 32,
   "metadata": {},
   "outputs": [
    {
     "name": "stdout",
     "output_type": "stream",
     "text": [
      "MAE for XGBoost on train set for Item 0: 4.5 %\n",
      "MAE for XGBoost on test set for Item 0: 48.1 %\n"
     ]
    }
   ],
   "source": [
    "# Comparing the Mean Absolute Error (MAE) for the predicted train values\n",
    "Y_train_predict = {}\n",
    "Y_train_predict[0] = xg_reg.predict(X_train_by_item[0])\n",
    "\n",
    "MAE_XGB_train = np.mean(abs(Y_train_by_item[0] - Y_train_predict[0]))/np.mean(Y_train_by_item[0])\n",
    "print('MAE for XGBoost on train set for Item {0}: {1} %'.format(0, round(MAE_XGB_train*100,1)))\n",
    "\n",
    "# Predicting the test data MAE\n",
    "Y_test_predict = {}\n",
    "Y_test_predict[0] = xg_reg.predict(X_test_by_item[0])\n",
    "\n",
    "MAE_XGB_test = np.mean(abs(Y_test_by_item[0] - Y_test_predict[0]))/np.mean(Y_test_by_item[0])\n",
    "print('MAE for XGBoost on test set for Item {0}: {1} %'.format(0, round(MAE_XGB_test*100,1)))"
   ]
  },
  {
   "cell_type": "code",
   "execution_count": 33,
   "metadata": {},
   "outputs": [],
   "source": [
    "#Need to go back and recheck stationarity of series, and then apply these models again. "
   ]
  },
  {
   "cell_type": "code",
   "execution_count": null,
   "metadata": {},
   "outputs": [],
   "source": []
  },
  {
   "cell_type": "code",
   "execution_count": null,
   "metadata": {},
   "outputs": [],
   "source": []
  },
  {
   "cell_type": "code",
   "execution_count": null,
   "metadata": {},
   "outputs": [],
   "source": []
  },
  {
   "cell_type": "markdown",
   "metadata": {},
   "source": [
    "## Checking for stationarity"
   ]
  },
  {
   "cell_type": "code",
   "execution_count": 34,
   "metadata": {},
   "outputs": [
    {
     "name": "stdout",
     "output_type": "stream",
     "text": [
      "                           0\n",
      "month_year_order_placed     \n",
      "2015-01-01               415\n",
      "2015-02-01               392\n",
      "2015-03-01               405\n",
      "2015-04-01               417\n",
      "2015-05-01               392\n",
      "2015-06-01               411\n",
      "2015-07-01               412\n",
      "2015-08-01               407\n",
      "2015-09-01               436\n",
      "2015-10-01               428\n",
      "2015-11-01               430\n",
      "2015-12-01               389\n",
      "2016-01-01               416\n",
      "2016-02-01               383\n",
      "2016-03-01               433\n",
      "2016-04-01               384\n",
      "2016-05-01               426\n",
      "2016-06-01               421\n",
      "2016-07-01               418\n",
      "2016-08-01               419\n",
      "2016-09-01               385\n",
      "2016-10-01               422\n",
      "2016-11-01               426\n",
      "2016-12-01               395\n",
      "2017-01-01               425\n",
      "2017-02-01               422\n",
      "2017-03-01               450\n",
      "2017-04-01               436\n",
      "2017-05-01               451\n",
      "2017-06-01               410\n",
      "2017-07-01               431\n",
      "2017-08-01               391\n",
      "2017-09-01               436\n",
      "2017-10-01                15\n",
      "2017-11-01                 0\n",
      "2017-12-01                 0\n",
      "2018-01-01                 0\n"
     ]
    },
    {
     "data": {
      "text/plain": [
       "Text(0, 0.5, 'Number of sales')"
      ]
     },
     "execution_count": 34,
     "metadata": {},
     "output_type": "execute_result"
    },
    {
     "data": {
      "image/png": "[encoded data removed]",
      "text/plain": [
       "<Figure size 432x288 with 1 Axes>"
      ]
     },
     "metadata": {
      "needs_background": "light"
     },
     "output_type": "display_data"
    }
   ],
   "source": [
    "# Plotting the time series for first product\n",
    "# Please ignore the x-axis values for now\n",
    "\n",
    "ts = pd.DataFrame(index=top_demand_table.columns.to_timestamp(), data=top_demand_table.values[0,:])\n",
    "print(ts)\n",
    "\n",
    "plt.plot(ts)\n",
    "plt.xlabel('Monthly sales (counts) from Jan 2015 to Jan 2018')\n",
    "plt.ylabel('Number of sales')"
   ]
  },
  {
   "cell_type": "code",
   "execution_count": 35,
   "metadata": {},
   "outputs": [
    {
     "name": "stdout",
     "output_type": "stream",
     "text": [
      "Results of Dickey-Fuller Test:\n",
      "Test Statistic                 -0.550405\n",
      "p-value                         0.881799\n",
      "#Lags Used                      0.000000\n",
      "Number of Observations Used    36.000000\n",
      "Critical Value (1%)            -3.626652\n",
      "Critical Value (5%)            -2.945951\n",
      "Critical Value (10%)           -2.611671\n",
      "dtype: float64\n"
     ]
    }
   ],
   "source": [
    "# Checking for stationarity using AD Fuller\n",
    "from statsmodels.tsa.stattools import adfuller\n",
    "\n",
    "print('Results of Dickey-Fuller Test:')\n",
    "dftest = adfuller(ts[0], autolag='AIC')\n",
    "dfoutput = pd.Series(dftest[0:4], index=['Test Statistic','p-value','#Lags Used','Number of Observations Used'])\n",
    "for key,value in dftest[4].items():\n",
    "    dfoutput['Critical Value (%s)'%key] = value\n",
    "print(dfoutput)"
   ]
  },
  {
   "cell_type": "markdown",
   "metadata": {},
   "source": [
    "At such a high p-value, the series is non-stationary. "
   ]
  },
  {
   "cell_type": "code",
   "execution_count": 36,
   "metadata": {},
   "outputs": [
    {
     "data": {
      "text/plain": [
       "[<matplotlib.lines.Line2D at 0x1a2a1ba1fd0>]"
      ]
     },
     "execution_count": 36,
     "metadata": {},
     "output_type": "execute_result"
    },
    {
     "data": {
      "image/png": "[encoded data removed]",
      "text/plain": [
       "<Figure size 432x288 with 1 Axes>"
      ]
     },
     "metadata": {
      "needs_background": "light"
     },
     "output_type": "display_data"
    }
   ],
   "source": [
    "#Eliminating trend\n",
    "# Using the moving average over 12 months\n",
    "\n",
    "moving_avg = (pd.DataFrame(ts)).rolling(12).mean()\n",
    "plt.plot(moving_avg, color='red')\n",
    "plt.plot(ts)\n"
   ]
  },
  {
   "cell_type": "code",
   "execution_count": 37,
   "metadata": {},
   "outputs": [
    {
     "data": {
      "text/html": [
       "<div>\n",
       "<style scoped>\n",
       "    .dataframe tbody tr th:only-of-type {\n",
       "        vertical-align: middle;\n",
       "    }\n",
       "\n",
       "    .dataframe tbody tr th {\n",
       "        vertical-align: top;\n",
       "    }\n",
       "\n",
       "    .dataframe thead th {\n",
       "        text-align: right;\n",
       "    }\n",
       "</style>\n",
       "<table border=\"1\" class=\"dataframe\">\n",
       "  <thead>\n",
       "    <tr style=\"text-align: right;\">\n",
       "      <th></th>\n",
       "      <th>0</th>\n",
       "    </tr>\n",
       "    <tr>\n",
       "      <th>month_year_order_placed</th>\n",
       "      <th></th>\n",
       "    </tr>\n",
       "  </thead>\n",
       "  <tbody>\n",
       "    <tr>\n",
       "      <th>2015-01-01</th>\n",
       "      <td>NaN</td>\n",
       "    </tr>\n",
       "    <tr>\n",
       "      <th>2015-02-01</th>\n",
       "      <td>NaN</td>\n",
       "    </tr>\n",
       "    <tr>\n",
       "      <th>2015-03-01</th>\n",
       "      <td>NaN</td>\n",
       "    </tr>\n",
       "    <tr>\n",
       "      <th>2015-04-01</th>\n",
       "      <td>NaN</td>\n",
       "    </tr>\n",
       "    <tr>\n",
       "      <th>2015-05-01</th>\n",
       "      <td>NaN</td>\n",
       "    </tr>\n",
       "    <tr>\n",
       "      <th>2015-06-01</th>\n",
       "      <td>NaN</td>\n",
       "    </tr>\n",
       "    <tr>\n",
       "      <th>2015-07-01</th>\n",
       "      <td>NaN</td>\n",
       "    </tr>\n",
       "    <tr>\n",
       "      <th>2015-08-01</th>\n",
       "      <td>NaN</td>\n",
       "    </tr>\n",
       "    <tr>\n",
       "      <th>2015-09-01</th>\n",
       "      <td>NaN</td>\n",
       "    </tr>\n",
       "    <tr>\n",
       "      <th>2015-10-01</th>\n",
       "      <td>NaN</td>\n",
       "    </tr>\n",
       "    <tr>\n",
       "      <th>2015-11-01</th>\n",
       "      <td>NaN</td>\n",
       "    </tr>\n",
       "    <tr>\n",
       "      <th>2015-12-01</th>\n",
       "      <td>-22.166667</td>\n",
       "    </tr>\n",
       "  </tbody>\n",
       "</table>\n",
       "</div>"
      ],
      "text/plain": [
       "                                 0\n",
       "month_year_order_placed           \n",
       "2015-01-01                     NaN\n",
       "2015-02-01                     NaN\n",
       "2015-03-01                     NaN\n",
       "2015-04-01                     NaN\n",
       "2015-05-01                     NaN\n",
       "2015-06-01                     NaN\n",
       "2015-07-01                     NaN\n",
       "2015-08-01                     NaN\n",
       "2015-09-01                     NaN\n",
       "2015-10-01                     NaN\n",
       "2015-11-01                     NaN\n",
       "2015-12-01              -22.166667"
      ]
     },
     "execution_count": 37,
     "metadata": {},
     "output_type": "execute_result"
    }
   ],
   "source": [
    "ts_log_moving_avg_diff = ts - moving_avg\n",
    "ts_log_moving_avg_diff.head(12)"
   ]
  },
  {
   "cell_type": "code",
   "execution_count": 38,
   "metadata": {},
   "outputs": [
    {
     "name": "stdout",
     "output_type": "stream",
     "text": [
      "Results of Dickey-Fuller Test:\n",
      "Test Statistic                 -2.044178\n",
      "p-value                         0.267545\n",
      "#Lags Used                      9.000000\n",
      "Number of Observations Used    16.000000\n",
      "Critical Value (1%)            -3.924019\n",
      "Critical Value (5%)            -3.068498\n",
      "Critical Value (10%)           -2.673893\n",
      "dtype: float64\n"
     ]
    }
   ],
   "source": [
    "# Dropping these NaN values from the beginning\n",
    "ts_log_moving_avg_diff.dropna(inplace=True)\n",
    "\n",
    "print('Results of Dickey-Fuller Test:')\n",
    "dftest = adfuller(ts_log_moving_avg_diff[0], autolag='AIC')\n",
    "dfoutput = pd.Series(dftest[0:4], index=['Test Statistic','p-value','#Lags Used','Number of Observations Used'])\n",
    "for key,value in dftest[4].items():\n",
    "    dfoutput['Critical Value (%s)'%key] = value\n",
    "print(dfoutput)"
   ]
  },
  {
   "cell_type": "code",
   "execution_count": 39,
   "metadata": {},
   "outputs": [
    {
     "data": {
      "text/plain": [
       "[<matplotlib.lines.Line2D at 0x1a2a2391470>]"
      ]
     },
     "execution_count": 39,
     "metadata": {},
     "output_type": "execute_result"
    },
    {
     "data": {
      "image/png": "[encoded data removed]",
      "text/plain": [
       "<Figure size 432x288 with 1 Axes>"
      ]
     },
     "metadata": {
      "needs_background": "light"
     },
     "output_type": "display_data"
    }
   ],
   "source": [
    "# This looks better now, but still there is non-stationarity. We can use exponential weighted MA\n",
    "expwighted_avg = pd.DataFrame(ts).ewm(halflife=12).mean()\n",
    "plt.plot(ts)\n",
    "plt.plot(expwighted_avg, color='red')"
   ]
  },
  {
   "cell_type": "code",
   "execution_count": 40,
   "metadata": {},
   "outputs": [
    {
     "name": "stdout",
     "output_type": "stream",
     "text": [
      "Results of Dickey-Fuller Test:\n",
      "Test Statistic                 -1.058817\n",
      "p-value                         0.731213\n",
      "#Lags Used                      0.000000\n",
      "Number of Observations Used    36.000000\n",
      "Critical Value (1%)            -3.626652\n",
      "Critical Value (5%)            -2.945951\n",
      "Critical Value (10%)           -2.611671\n",
      "dtype: float64\n"
     ]
    }
   ],
   "source": [
    "ts_log_ewma_diff = ts - expwighted_avg\n",
    "\n",
    "print('Results of Dickey-Fuller Test:')\n",
    "dftest = adfuller(ts_log_ewma_diff[0], autolag='AIC')\n",
    "dfoutput = pd.Series(dftest[0:4], index=['Test Statistic','p-value','#Lags Used','Number of Observations Used'])\n",
    "for key,value in dftest[4].items():\n",
    "    dfoutput['Critical Value (%s)'%key] = value\n",
    "print(dfoutput)"
   ]
  },
  {
   "cell_type": "code",
   "execution_count": 41,
   "metadata": {},
   "outputs": [
    {
     "data": {
      "text/plain": [
       "[<matplotlib.lines.Line2D at 0x1a2a23fb2b0>]"
      ]
     },
     "execution_count": 41,
     "metadata": {},
     "output_type": "execute_result"
    },
    {
     "data": {
      "image/png": "[encoded data removed]",
      "text/plain": [
       "<Figure size 432x288 with 1 Axes>"
      ]
     },
     "metadata": {
      "needs_background": "light"
     },
     "output_type": "display_data"
    }
   ],
   "source": [
    "# This is too high again. Let's use differencing to reduce seasonality\n",
    "ts_diff = ts - ts.shift()\n",
    "plt.plot(ts_diff)"
   ]
  },
  {
   "cell_type": "code",
   "execution_count": 42,
   "metadata": {},
   "outputs": [
    {
     "name": "stdout",
     "output_type": "stream",
     "text": [
      "Results of Dickey-Fuller Test:\n",
      "Test Statistic                -6.843027e+00\n",
      "p-value                        1.771303e-09\n",
      "#Lags Used                     0.000000e+00\n",
      "Number of Observations Used    3.500000e+01\n",
      "Critical Value (1%)           -3.632743e+00\n",
      "Critical Value (5%)           -2.948510e+00\n",
      "Critical Value (10%)          -2.613017e+00\n",
      "dtype: float64\n"
     ]
    }
   ],
   "source": [
    "ts_diff.dropna(inplace=True)\n",
    "\n",
    "print('Results of Dickey-Fuller Test:')\n",
    "dftest = adfuller(ts_diff[0], autolag='AIC')\n",
    "dfoutput = pd.Series(dftest[0:4], index=['Test Statistic','p-value','#Lags Used','Number of Observations Used'])\n",
    "for key,value in dftest[4].items():\n",
    "    dfoutput['Critical Value (%s)'%key] = value\n",
    "print(dfoutput)"
   ]
  },
  {
   "cell_type": "markdown",
   "metadata": {},
   "source": [
    "This looks very good now!!"
   ]
  },
  {
   "cell_type": "code",
   "execution_count": null,
   "metadata": {},
   "outputs": [],
   "source": []
  },
  {
   "cell_type": "code",
   "execution_count": null,
   "metadata": {},
   "outputs": [],
   "source": []
  },
  {
   "cell_type": "code",
   "execution_count": null,
   "metadata": {},
   "outputs": [],
   "source": []
  },
  {
   "cell_type": "code",
   "execution_count": null,
   "metadata": {},
   "outputs": [],
   "source": []
  },
  {
   "cell_type": "code",
   "execution_count": null,
   "metadata": {},
   "outputs": [],
   "source": []
  },
  {
   "cell_type": "code",
   "execution_count": null,
   "metadata": {},
   "outputs": [],
   "source": []
  },
  {
   "cell_type": "code",
   "execution_count": null,
   "metadata": {},
   "outputs": [],
   "source": []
  },
  {
   "cell_type": "code",
   "execution_count": null,
   "metadata": {},
   "outputs": [],
   "source": []
  },
  {
   "cell_type": "code",
   "execution_count": null,
   "metadata": {},
   "outputs": [],
   "source": []
  },
  {
   "cell_type": "code",
   "execution_count": null,
   "metadata": {},
   "outputs": [],
   "source": []
  },
  {
   "cell_type": "code",
   "execution_count": null,
   "metadata": {},
   "outputs": [],
   "source": []
  },
  {
   "cell_type": "code",
   "execution_count": null,
   "metadata": {},
   "outputs": [],
   "source": []
  },
  {
   "cell_type": "code",
   "execution_count": null,
   "metadata": {},
   "outputs": [],
   "source": []
  },
  {
   "cell_type": "code",
   "execution_count": null,
   "metadata": {},
   "outputs": [],
   "source": []
  },
  {
   "cell_type": "code",
   "execution_count": null,
   "metadata": {},
   "outputs": [],
   "source": []
  },
  {
   "cell_type": "code",
   "execution_count": null,
   "metadata": {},
   "outputs": [],
   "source": []
  },
  {
   "cell_type": "code",
   "execution_count": null,
   "metadata": {},
   "outputs": [],
   "source": []
  },
  {
   "cell_type": "code",
   "execution_count": null,
   "metadata": {},
   "outputs": [],
   "source": []
  },
  {
   "cell_type": "code",
   "execution_count": null,
   "metadata": {},
   "outputs": [],
   "source": []
  },
  {
   "cell_type": "code",
   "execution_count": null,
   "metadata": {},
   "outputs": [],
   "source": []
  },
  {
   "cell_type": "code",
   "execution_count": null,
   "metadata": {},
   "outputs": [],
   "source": []
  },
  {
   "cell_type": "code",
   "execution_count": null,
   "metadata": {},
   "outputs": [],
   "source": []
  }
 ],
 "metadata": {
  "kernelspec": {
   "display_name": "Python 3",
   "language": "python",
   "name": "python3"
  },
  "language_info": {
   "codemirror_mode": {
    "name": "ipython",
    "version": 3
   },
   "file_extension": ".py",
   "mimetype": "text/x-python",
   "name": "python",
   "nbconvert_exporter": "python",
   "pygments_lexer": "ipython3",
   "version": "3.7.3"
  }
 },
 "nbformat": 4,
 "nbformat_minor": 2
}
